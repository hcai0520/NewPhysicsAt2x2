{
 "cells": [
  {
   "cell_type": "code",
   "execution_count": 1,
   "id": "7bd2b8ae",
   "metadata": {},
   "outputs": [],
   "source": [
    "import ROOT\n",
    "import numpy as np\n"
   ]
  },
  {
   "cell_type": "code",
   "execution_count": 2,
   "id": "a7f70774",
   "metadata": {},
   "outputs": [
    {
     "name": "stdout",
     "output_type": "stream",
     "text": [
      "Name: PixelEDep Title: Energy per pixel\n"
     ]
    }
   ],
   "source": [
    "mu = ROOT.TFile.Open(\"../build/Mu_1.root\")\n",
    "\n",
    "# Get the TTrees\n",
    "mu_ntuple = mu.Get(\"PixelEDep\") \n",
    "print(mu_ntuple)"
   ]
  },
  {
   "cell_type": "code",
   "execution_count": 17,
   "id": "2b0459d3",
   "metadata": {},
   "outputs": [
    {
     "name": "stdout",
     "output_type": "stream",
     "text": [
      "['EventID', 'PixelID', 'EnergyDep']\n"
     ]
    }
   ],
   "source": [
    "br_mu = [branch.GetName() for branch in mu_ntuple.GetListOfBranches()]\n",
    "print(br_mu)"
   ]
  },
  {
   "cell_type": "code",
   "execution_count": 3,
   "id": "f2d22f1e",
   "metadata": {},
   "outputs": [],
   "source": [
    "df = ROOT.RDataFrame(\"PixelEDep\", \"../build/Mu_1.root\")\n",
    "data = df.AsNumpy(['EventID', 'PixelID', 'EnergyDep'])  "
   ]
  },
  {
   "cell_type": "code",
   "execution_count": 4,
   "id": "0fbf65c4",
   "metadata": {},
   "outputs": [
    {
     "name": "stdout",
     "output_type": "stream",
     "text": [
      "20124\n"
     ]
    }
   ],
   "source": [
    "copyno = data['PixelID']\n",
    "en = data['EnergyDep']\n",
    "print(len(en))"
   ]
  },
  {
   "cell_type": "code",
   "execution_count": null,
   "id": "a13e057f",
   "metadata": {},
   "outputs": [],
   "source": [
    "hist = ROOT.TH1F(\"mu\", \"Muon;En(MeV);Counts\", 200, 0, 15)\n",
    "canvas = ROOT.TCanvas(\"canvas\", \"Canvas\", 800, 600)\n",
    "for value in en:\n",
    "    hist.Fill(value)\n",
    "\n",
    "# Fit with Landau\n",
    "#fit_result = hist.Fit(\"landau\", \"RS\", \"\", 0.6, 1.5) # \"S\" returns the fit result\n",
    "#landau = fit_result.Get()  \n",
    "# Extract MPV and sigma\n",
    "#mpv   = landau.Parameter(1)\n",
    "#sigma = landau.Parameter(2)\n",
    "#chi2  = landau.Chi2()\n",
    "#ndf   = landau.Ndf()\n",
    "#canvas.SetLogy()\n",
    "#print(f\"MPV: {mpv:.3f} MeV\")\n",
    "#print(f\"Sigma: {sigma:.3f}\")\n",
    "#print(f\"Chi2/NDF: {chi2:.2f} / {ndf}\")  \n",
    "#hist.Draw(\"E\")  # \"E\" for error bars\n",
    "#canvas.Update()    "
   ]
  },
  {
   "cell_type": "code",
   "execution_count": 6,
   "id": "9a444245",
   "metadata": {},
   "outputs": [
    {
     "name": "stdout",
     "output_type": "stream",
     "text": [
      "****************************************\n",
      "         Invalid FitResult  (status = 4 )\n",
      "****************************************\n",
      "Minimizer is Minuit2 / Migrad\n",
      "Chi2                      =      8.39278\n",
      "NDf                       =            6\n",
      "Edm                       =  8.64658e-05\n",
      "NCalls                    =         1636\n",
      "p0                        =      7253.56   +/-   15482       \n",
      "p1                        =      1.33957   +/-   1.49325     \n",
      "p2                        =      0.95271   +/-   3.4587      \n",
      "p3                        =     -3.85327   +/-   4.37517     \n",
      "p4                        =      1.84991   +/-   1.15704     \n"
     ]
    },
    {
     "name": "stderr",
     "output_type": "stream",
     "text": [
      "Error in <TVirtualFFT::FFT>: handler not found\n",
      "Error in <TVirtualFFT::FFT>: handler not found\n",
      "Warning in <TF1Convolution::MakeFFTConv>: Cannot use FFT, probably FFTW package is not available. Switch to numerical convolution\n",
      "Warning in <Fit>: Abnormal termination of minimization.\n",
      "Info in <TCanvas::Print>: png file landau_gauss_fit.png has been created\n"
     ]
    }
   ],
   "source": [
    "landau = ROOT.TF1(\"landau\", \"landau\", 0.55, 1.1)\n",
    "gaus = ROOT.TF1(\"gaus\", \"gaus\", -1, 1)\n",
    "conv = ROOT.TF1Convolution(\"landau\", \"gaus\", 0.55, 1.1, True)\n",
    "#conv.SetNofPointsFFT(1000)  # improve resolution of FFT\n",
    "f_conv = ROOT.TF1(\"f_conv\", conv, 0.55, 1.1, conv.GetNpar())\n",
    "f_conv.SetParameters(0.1, 1.0, 0.2, 0.0, 0.3) \n",
    "\n",
    "hist.Fit(f_conv, \"R\")  # \"R\" means fit in range\n",
    "\n",
    "# Draw result\n",
    "#canvas = ROOT.TCanvas(\"c\", \"Landau-Gauss Fit\", 800, 600)\n",
    "hist.Draw()\n",
    "f_conv.SetLineColor(ROOT.kRed)\n",
    "f_conv.Draw(\"same\")\n",
    "canvas.SaveAs(\"landau_gauss_fit.png\")\n"
   ]
  },
  {
   "cell_type": "code",
   "execution_count": 5,
   "id": "115f4a53",
   "metadata": {},
   "outputs": [
    {
     "ename": "NameError",
     "evalue": "name 'f_conv' is not defined",
     "output_type": "error",
     "traceback": [
      "\u001b[31m---------------------------------------------------------------------------\u001b[39m",
      "\u001b[31mNameError\u001b[39m                                 Traceback (most recent call last)",
      "\u001b[36mCell\u001b[39m\u001b[36m \u001b[39m\u001b[32mIn[5]\u001b[39m\u001b[32m, line 2\u001b[39m\n\u001b[32m      1\u001b[39m \u001b[38;5;66;03m# f_conv is your fitted TF1 object\u001b[39;00m\n\u001b[32m----> \u001b[39m\u001b[32m2\u001b[39m mpv = \u001b[43mf_conv\u001b[49m.GetMaximumX()\n\u001b[32m      3\u001b[39m \u001b[38;5;28mprint\u001b[39m(\u001b[33mf\u001b[39m\u001b[33m\"\u001b[39m\u001b[33mMPV (from maximum of fit): \u001b[39m\u001b[38;5;132;01m{\u001b[39;00mmpv\u001b[38;5;132;01m:\u001b[39;00m\u001b[33m.3f\u001b[39m\u001b[38;5;132;01m}\u001b[39;00m\u001b[33m MeV\u001b[39m\u001b[33m\"\u001b[39m)\n",
      "\u001b[31mNameError\u001b[39m: name 'f_conv' is not defined"
     ]
    }
   ],
   "source": [
    "# f_conv is your fitted TF1 object\n",
    "mpv = f_conv.GetMaximumX()\n",
    "print(f\"MPV (from maximum of fit): {mpv:.3f} MeV\")\n"
   ]
  },
  {
   "cell_type": "code",
   "execution_count": 7,
   "id": "ec214150",
   "metadata": {},
   "outputs": [
    {
     "name": "stdout",
     "output_type": "stream",
     "text": [
      "0.1592133533431943\n"
     ]
    }
   ],
   "source": [
    "print(len(en[en<0.55])/len(en))"
   ]
  },
  {
   "cell_type": "code",
   "execution_count": null,
   "id": "ad3b8944",
   "metadata": {},
   "outputs": [],
   "source": []
  }
 ],
 "metadata": {
  "kernelspec": {
   "display_name": ".venv",
   "language": "python",
   "name": "python3"
  },
  "language_info": {
   "codemirror_mode": {
    "name": "ipython",
    "version": 3
   },
   "file_extension": ".py",
   "mimetype": "text/x-python",
   "name": "python",
   "nbconvert_exporter": "python",
   "pygments_lexer": "ipython3",
   "version": "3.13.2"
  }
 },
 "nbformat": 4,
 "nbformat_minor": 5
}
